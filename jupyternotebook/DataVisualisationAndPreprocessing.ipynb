{
 "cells": [
  {
   "cell_type": "markdown",
   "source": [
    "# Úloha predikce poskytnutí úvěru bankovním klientům\n",
    "\n",
    "Cílem práce je sestavení různých modelů metod ML pro účely predikce poskytnutí bankovního\n",
    "úvěru klientům.\n",
    "\n",
    "Pro tento účel je použit dataset obsahující údaje o bankovních klientech ve vztahu ke skutečnosti,\n",
    "zda jim byl poskytnut úvěr či nikoli. Data pocházejí z\n",
    "https://www.kaggle.com/sriharipramod/bank-loan-classification."
   ],
   "metadata": {
    "collapsed": false
   }
  },
  {
   "cell_type": "markdown",
   "source": [
    "## Vizualizace a předzpracování dat\n",
    "V rámci této fáze projektu dochází k načtení výchozích dat."
   ],
   "metadata": {
    "collapsed": false
   }
  },
  {
   "cell_type": "code",
   "execution_count": 0,
   "metadata": {
    "collapsed": true
   },
   "outputs": [],
   "source": [
    "import pandas as pd\n",
    "import matplotlib.pyplot as plt\n",
    "from sklearn.model_selection import train_test_split"
   ]
  },
  {
   "cell_type": "markdown",
   "source": [
    "ahoj"
   ],
   "metadata": {
    "collapsed": false
   }
  },
  {
   "cell_type": "code",
   "execution_count": 0,
   "outputs": [],
   "source": [],
   "metadata": {
    "collapsed": false,
    "pycharm": {
     "name": "#%%\n"
    }
   }
  }
 ],
 "metadata": {
  "kernelspec": {
   "display_name": "Python 3",
   "language": "python",
   "name": "python3"
  },
  "language_info": {
   "codemirror_mode": {
    "name": "ipython",
    "version": 2
   },
   "file_extension": ".py",
   "mimetype": "text/x-python",
   "name": "python",
   "nbconvert_exporter": "python",
   "pygments_lexer": "ipython2",
   "version": "2.7.6"
  }
 },
 "nbformat": 4,
 "nbformat_minor": 0
}